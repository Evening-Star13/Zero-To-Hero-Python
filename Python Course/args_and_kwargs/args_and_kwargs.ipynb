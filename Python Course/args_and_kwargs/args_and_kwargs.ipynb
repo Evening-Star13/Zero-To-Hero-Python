{
 "cells": [
  {
   "cell_type": "markdown",
   "id": "26ee424a",
   "metadata": {},
   "source": [
    "# Args\n",
    "## Without *args"
   ]
  },
  {
   "cell_type": "code",
   "execution_count": null,
   "id": "100dc3b5",
   "metadata": {},
   "outputs": [],
   "source": []
  },
  {
   "cell_type": "code",
   "execution_count": 1,
   "id": "44e469a1",
   "metadata": {},
   "outputs": [],
   "source": [
    "def myfunc(a,b):\n",
    "    # Returns 5% of the sum a and b\n",
    "    return sum((a,b)) * 0.05"
   ]
  },
  {
   "cell_type": "code",
   "execution_count": 2,
   "id": "d29e6468",
   "metadata": {},
   "outputs": [
    {
     "name": "stdout",
     "output_type": "stream",
     "text": [
      "5.0\n"
     ]
    }
   ],
   "source": [
    "print (myfunc(40,60))"
   ]
  },
  {
   "cell_type": "markdown",
   "id": "a255c9b5",
   "metadata": {},
   "source": [
    "## With *args\n",
    "### arguments"
   ]
  },
  {
   "cell_type": "code",
   "execution_count": 13,
   "id": "0fbcec57",
   "metadata": {},
   "outputs": [],
   "source": [
    "def myfunc2(*args):\n",
    "    # This will allow an unlimited amount of arguements\n",
    "    print(args)\n",
    "    return sum (args) * 0.2"
   ]
  },
  {
   "cell_type": "code",
   "execution_count": 14,
   "id": "8fd0d2a1",
   "metadata": {},
   "outputs": [
    {
     "name": "stdout",
     "output_type": "stream",
     "text": [
      "(12, 15, 34, 67, 93)\n"
     ]
    },
    {
     "data": {
      "text/plain": [
       "44.2"
      ]
     },
     "execution_count": 14,
     "metadata": {},
     "output_type": "execute_result"
    }
   ],
   "source": [
    "myfunc2(12,15,34,67,93)"
   ]
  },
  {
   "cell_type": "code",
   "execution_count": 17,
   "id": "7c9ba23d",
   "metadata": {},
   "outputs": [],
   "source": [
    "def myfunc3(*args):\n",
    "    for item in args:\n",
    "        print(item)"
   ]
  },
  {
   "cell_type": "code",
   "execution_count": 18,
   "id": "83cdbfce",
   "metadata": {},
   "outputs": [
    {
     "name": "stdout",
     "output_type": "stream",
     "text": [
      "1\n",
      "13\n",
      "45\n",
      "67\n",
      "87\n",
      "31\n"
     ]
    }
   ],
   "source": [
    "myfunc3(1,13,45,67,87,31)"
   ]
  },
  {
   "cell_type": "markdown",
   "id": "f5335a55",
   "metadata": {},
   "source": [
    "## **kwargs\n",
    "### key word arguments"
   ]
  },
  {
   "cell_type": "code",
   "execution_count": 27,
   "id": "c362b9eb",
   "metadata": {},
   "outputs": [],
   "source": [
    "def myfunc4(**kwargs):\n",
    "    print(kwargs)\n",
    "    if 'fruit' in kwargs:\n",
    "        print ('My fruit of choice is {}'.format(kwargs['fruit']))\n",
    "        print ('My veggie of choice is {}'.format(kwargs['veggie']))\n",
    "    else:\n",
    "        print (\"I didn't find ant fruit here\")"
   ]
  },
  {
   "cell_type": "code",
   "execution_count": 28,
   "id": "0c5392bc",
   "metadata": {},
   "outputs": [
    {
     "name": "stdout",
     "output_type": "stream",
     "text": [
      "{'fruit': 'Banana!', 'veggie': 'Brussel Sprouts!'}\n",
      "My fruit of choice is Banana!\n",
      "My veggie of choice is Brussel Sprouts!\n"
     ]
    }
   ],
   "source": [
    "myfunc4 (fruit = 'Banana!', veggie = 'Brussel Sprouts!')"
   ]
  },
  {
   "cell_type": "code",
   "execution_count": 41,
   "id": "e7d3202b",
   "metadata": {},
   "outputs": [],
   "source": [
    "def myfunc5(*args, **kwargs):\n",
    "    # Can use both *args and **kwargs in combination\n",
    "    print(args) # This will render a tuple\n",
    "    print(kwargs) # This will render a dictionary\n",
    "    print('I would like {} {}'.format(args[3],kwargs['animal']))"
   ]
  },
  {
   "cell_type": "code",
   "execution_count": 42,
   "id": "01c50ca6",
   "metadata": {},
   "outputs": [
    {
     "name": "stdout",
     "output_type": "stream",
     "text": [
      "(10, 20, 30, 1)\n",
      "{'fruit': 'orange', 'food': 'pizza', 'animal': 'dragon'}\n",
      "I would like 1 dragon\n"
     ]
    }
   ],
   "source": [
    "myfunc5(10,20,30,1,fruit='orange',food='pizza',animal='dragon')"
   ]
  }
 ],
 "metadata": {
  "kernelspec": {
   "display_name": "Python 3 (ipykernel)",
   "language": "python",
   "name": "python3"
  },
  "language_info": {
   "codemirror_mode": {
    "name": "ipython",
    "version": 3
   },
   "file_extension": ".py",
   "mimetype": "text/x-python",
   "name": "python",
   "nbconvert_exporter": "python",
   "pygments_lexer": "ipython3",
   "version": "3.11.5"
  }
 },
 "nbformat": 4,
 "nbformat_minor": 5
}
