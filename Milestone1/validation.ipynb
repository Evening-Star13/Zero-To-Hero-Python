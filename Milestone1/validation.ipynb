{
 "cells": [
  {
   "cell_type": "code",
   "execution_count": 29,
   "metadata": {},
   "outputs": [],
   "source": [
    "row1 = [' ', ' ', ' ']\n",
    "row2 = [' ', ' ', ' ']\n",
    "row3 = [' ', ' ', ' ']"
   ]
  },
  {
   "cell_type": "code",
   "execution_count": 30,
   "metadata": {},
   "outputs": [],
   "source": [
    "def user_choice():\n",
    "    \n",
    "    choice = 'Wrong'\n",
    "    \n",
    "    while choice.isdigit() == False:\n",
    "    \n",
    "        choice = input('Please a Number (0-10): ')\n",
    "        if choice.isdigit()  == False:\n",
    "            print('Sorry that is not a valid digit!')\n",
    "        \n",
    "    return int(choice)"
   ]
  },
  {
   "cell_type": "code",
   "execution_count": 31,
   "metadata": {},
   "outputs": [
    {
     "name": "stdout",
     "output_type": "stream",
     "text": [
      "2\n"
     ]
    }
   ],
   "source": [
    "print(user_choice())"
   ]
  },
  {
   "cell_type": "code",
   "execution_count": 37,
   "metadata": {},
   "outputs": [],
   "source": [
    "def user_choice():\n",
    "    \n",
    "    # Variables\n",
    "    \n",
    "    # Initial\n",
    "    choice = 'Wrong'\n",
    "    acceptable_range = range(0, 11)\n",
    "    within_range = False\n",
    "    \n",
    "    # Two conditions to check\n",
    "    # Digit or within range is false\n",
    "    while choice.isdigit() == False or within_range == False:\n",
    "    \n",
    "        choice = input('Please a Number (0-10): ')\n",
    "        \n",
    "        # Digit Check\n",
    "        if choice.isdigit()  == False:\n",
    "            print('Sorry that is not a valid digit!')\n",
    "            \n",
    "        # Range Check\n",
    "        if choice.isdigit() == True:\n",
    "            if int(choice) in acceptable_range:\n",
    "                within_range = True\n",
    "                print('Good Choice!')\n",
    "            else:\n",
    "                within_range = False\n",
    "                print('The Number is not in Specified Range!')\n",
    "        \n",
    "    return int(choice)"
   ]
  },
  {
   "cell_type": "code",
   "execution_count": 38,
   "metadata": {},
   "outputs": [
    {
     "name": "stdout",
     "output_type": "stream",
     "text": [
      "The Number is not in Specified Range!\n",
      "Sorry that is not a valid digit!\n",
      "The Number is not in Specified Range!\n",
      "Sorry that is not a valid digit!\n",
      "The Number is not in Specified Range!\n",
      "Good Choice!\n",
      "10\n"
     ]
    }
   ],
   "source": [
    "print(user_choice())"
   ]
  }
 ],
 "metadata": {
  "kernelspec": {
   "display_name": "Python 3 (ipykernel)",
   "language": "python",
   "name": "python3"
  },
  "language_info": {
   "codemirror_mode": {
    "name": "ipython",
    "version": 3
   },
   "file_extension": ".py",
   "mimetype": "text/x-python",
   "name": "python",
   "nbconvert_exporter": "python",
   "pygments_lexer": "ipython3",
   "version": "3.11.5"
  }
 },
 "nbformat": 4,
 "nbformat_minor": 4
}
