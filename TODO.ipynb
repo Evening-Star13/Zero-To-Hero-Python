{
 "cells": [
  {
   "cell_type": "markdown",
   "metadata": {},
   "source": [
    "# <span style = color:lime> TODO List <span>"
   ]
  },
  {
   "cell_type": "markdown",
   "metadata": {},
   "source": [
    "* <span style = color:blue> Finish Milestone 2 Project <span><br>\n",
    "    <span style = color:red> 1. <span> <span style = color:red> Card Game War <span><br>\n",
    "    <span style = color:red> 2. <span> <span style = color:red> Card Black Jack <span><br>"
   ]
  },
  {
   "cell_type": "markdown",
   "metadata": {},
   "source": []
  }
 ],
 "metadata": {
  "language_info": {
   "name": "python"
  }
 },
 "nbformat": 4,
 "nbformat_minor": 2
}
